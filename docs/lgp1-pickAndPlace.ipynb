{
 "cells": [
  {
   "cell_type": "code",
   "execution_count": 1,
   "metadata": {},
   "outputs": [],
   "source": [
    "import sys\n",
    "sys.path.append('../rai/rai/ry')\n",
    "import numpy as np\n",
    "import libry as ry"
   ]
  },
  {
   "cell_type": "code",
   "execution_count": 2,
   "metadata": {},
   "outputs": [],
   "source": [
    "K = ry.Config()\n",
    "K.addFile(\"../rai-robotModels/pr2/pr2.g\")\n",
    "K.addFile(\"../models/tables.g\")\n",
    "\n",
    "K.addFrame(\"obj0\", \"table1\", \"type:ssBox size:[.1 .1 .2 .02] color:[1. 0. 0.], contact, logical={ object }, joint:rigid, Q:<t(0 0 .15)>\" )\n",
    "K.addFrame(\"obj1\", \"table1\", \"type:ssBox size:[.1 .1 .2 .02] color:[1. 0. 0.], contact, logical={ object }, joint:rigid, Q:<t(0 .2 .15)>\" )\n",
    "K.addFrame(\"obj2\", \"table1\", \"type:ssBox size:[.1 .1 .2 .02] color:[1. 0. 0.], contact, logical={ object }, joint:rigid, Q:<t(0 .4 .15)>\" )\n",
    "K.addFrame(\"obj3\", \"table1\", \"type:ssBox size:[.1 .1 .2 .02] color:[1. 0. 0.], contact, logical={ object }, joint:rigid, Q:<t(0 .6.15)>\" )\n",
    "K.addFrame(\"tray\", \"table2\", \"type:ssBox size:[.15 .15 .04 .02] color:[0. 1. 0.], logical={ table }, Q:<t(0 0 .07)>\" )\n",
    "V = K.view()"
   ]
  },
  {
   "cell_type": "code",
   "execution_count": 3,
   "metadata": {},
   "outputs": [
    {
     "output_type": "execute_result",
     "data": {
      "text/plain": [
       "{'decision': '<ROOT>',\n",
       " 'state': 'STATE_0(START_STATE):{ (gripper pr2R), (initial pr2R), (gripper pr2L), (initial pr2L), (initial table1), (table table2), (initial table2), (initial table3), (object obj0), (initial obj0), (object obj1), (initial obj1), (object obj2), (initial obj2), (object obj3), (initial obj3), (table tray), (initial tray), (partOf table2 tray), (on table1 obj0), (on table1 obj1), (on table1 obj2), (on table1 obj3) }',\n",
       " 'path': '',\n",
       " 'boundsCost': [0.0, 0.0, 0.0, 0.0, 0.0, 0.0, 0.0],\n",
       " 'boundsConstraints': [0.0, 0.0, 0.0, 0.0, 0.0, 0.0, 0.0],\n",
       " 'boundsFeasible': [1, 1, 1, 1, 1, 1, 1]}"
      ]
     },
     "metadata": {},
     "execution_count": 3
    }
   ],
   "source": [
    "lgp = K.lgp(\"../models/fol-pickAndPlace.g\")\n",
    "lgp.nodeInfo()\n",
    "# this writes the initial state, which is important to check:\n",
    "# do the grippers have the gripper predicate, do all objects have the object predicate, and tables the table predicate? These need to be set using a 'logical' attribute in the g-file\n",
    "# the on predicate should automatically be generated based on the configuration"
   ]
  },
  {
   "cell_type": "code",
   "execution_count": 6,
   "metadata": {},
   "outputs": [
    {
     "output_type": "execute_result",
     "data": {
      "text/plain": [
       "['(grasp pr2L obj0)',\n",
       " '(grasp pr2L obj1)',\n",
       " '(grasp pr2L obj2)',\n",
       " '(place pr2R obj3 table2)',\n",
       " '(place pr2R obj3 tray)']"
      ]
     },
     "metadata": {},
     "execution_count": 6
    }
   ],
   "source": [
    "lgp.getDecisions()\n",
    "# This is also useful to check: inspect all decisions possible in this node, which expands the node.\n",
    "# If there is no good decisions, the FOL rules are buggy"
   ]
  },
  {
   "cell_type": "code",
   "execution_count": 5,
   "metadata": {},
   "outputs": [
    {
     "output_type": "execute_result",
     "data": {
      "text/plain": [
       "{'decision': '(grasp pr2R obj3)',\n",
       " 'state': 'STATE_4(STATE_0):{ (gripper pr2R), (initial pr2R), (gripper pr2L), (initial pr2L), (initial table1), (table table2), (initial table2), (initial table3), (object obj0), (initial obj0), (object obj1), (initial obj1), (object obj2), (initial obj2), (object obj3), (initial obj3), (table tray), (initial tray), (partOf table2 tray), (on table1 obj0), (on table1 obj1), (on table1 obj2), (on table1 obj3), decision(grasp pr2R obj3), (grasped pr2R obj3), (held obj3), (busy pr2R), komo(touch pr2R obj3), (stable pr2R obj3) }',\n",
       " 'path': '(grasp pr2R obj3) ',\n",
       " 'boundsCost': [0.1, 0.0, 0.0, 0.0, 0.0, 0.0, 0.0],\n",
       " 'boundsConstraints': [0.0, 0.0, 0.0, 0.0, 0.0, 0.0, 0.0],\n",
       " 'boundsFeasible': [1, 1, 1, 1, 1, 1, 1]}"
      ]
     },
     "metadata": {},
     "execution_count": 5
    }
   ],
   "source": [
    "lgp.walkToDecision(3)\n",
    "lgp.nodeInfo()\n",
    "# Using getDecisions and walkToDecision and walkToParent, you can walk to anywhere in the tree by hand"
   ]
  },
  {
   "cell_type": "code",
   "execution_count": 6,
   "metadata": {},
   "outputs": [],
   "source": [
    "lgp.viewTree()"
   ]
  },
  {
   "cell_type": "code",
   "execution_count": 5,
   "metadata": {},
   "outputs": [
    {
     "output_type": "execute_result",
     "data": {
      "text/plain": [
       "{'decision': '(place pr2R obj0 tray)',\n",
       " 'state': 'STATE_15(STATE_9):{ (gripper pr2R), (initial pr2R), (gripper pr2L), (initial pr2L), (initial table1), (table table2), (initial table2), (initial table3), (object obj0), (initial obj0), (object obj1), (initial obj1), (object obj2), (initial obj2), (object obj3), (initial obj3), (table tray), (initial tray), (partOf table2 tray), (on table1 obj0), (on table1 obj1), (on table1 obj2), (on table1 obj3), (held obj0), (grasped pr2L obj1), (held obj1), (busy pr2L), (stable pr2L obj1), decision(place pr2R obj0 tray), (placed obj0 tray), (on obj0 tray), komo(touch pr2R obj0), (notheld obj0), block(INFEASIBLE grasp ANY obj0), komo(above obj0 tray), (stableOn tray obj0) }',\n",
       " 'path': '(grasp pr2R obj0) (grasp pr2L obj1) (place pr2R obj0 tray) ',\n",
       " 'boundsCost': [0.30000000000000004, 0.0, 0.0, 0.0, 0.0, 0.0, 0.0],\n",
       " 'boundsConstraints': [0.0, 0.0, 0.0, 0.0, 0.0, 0.0, 0.0],\n",
       " 'boundsFeasible': [1, 1, 1, 1, 1, 1, 1]}"
      ]
     },
     "metadata": {},
     "execution_count": 5
    }
   ],
   "source": [
    "lgp.walkToNode(\"(grasp pr2R obj0) (grasp pr2L obj1) (place pr2R obj0 tray)\")\n",
    "lgp.nodeInfo()"
   ]
  },
  {
   "cell_type": "code",
   "execution_count": 6,
   "metadata": {},
   "outputs": [
    {
     "output_type": "execute_result",
     "data": {
      "text/plain": [
       "{'decision': '(place pr2R obj0 tray)',\n",
       " 'state': 'STATE_15(STATE_9):{ (gripper pr2R), (initial pr2R), (gripper pr2L), (initial pr2L), (initial table1), (table table2), (initial table2), (initial table3), (object obj0), (initial obj0), (object obj1), (initial obj1), (object obj2), (initial obj2), (object obj3), (initial obj3), (table tray), (initial tray), (partOf table2 tray), (on table1 obj0), (on table1 obj1), (on table1 obj2), (on table1 obj3), (held obj0), (grasped pr2L obj1), (held obj1), (busy pr2L), (stable pr2L obj1), decision(place pr2R obj0 tray), (placed obj0 tray), (on obj0 tray), komo(touch pr2R obj0), (notheld obj0), block(INFEASIBLE grasp ANY obj0), komo(above obj0 tray), (stableOn tray obj0) }',\n",
       " 'path': '(grasp pr2R obj0) (grasp pr2L obj1) (place pr2R obj0 tray) ',\n",
       " 'boundsCost': [0.30000000000000004,\n",
       "  0.0,\n",
       "  0.31402973947780505,\n",
       "  0.0,\n",
       "  0.0,\n",
       "  0.0,\n",
       "  0.0],\n",
       " 'boundsConstraints': [0.0, 0.0, 0.014866237693106233, 0.0, 0.0, 0.0, 0.0],\n",
       " 'boundsFeasible': [1, 1, 1, 1, 1, 1, 1]}"
      ]
     },
     "metadata": {},
     "execution_count": 6
    }
   ],
   "source": [
    "# at a node, you can compute bounds, namely BT.seq (just key frames), BT.path (the full path),\n",
    "# and BT.setPath (also the full path, but seeded with the BT.seq result)\n",
    "lgp.optBound(ry.BT.seq, True)\n",
    "lgp.nodeInfo()"
   ]
  },
  {
   "cell_type": "code",
   "execution_count": 12,
   "metadata": {},
   "outputs": [
    {
     "output_type": "execute_result",
     "data": {
      "text/plain": [
       "{'decision': '(place pr2R obj0 tray)',\n",
       " 'state': 'STATE_15(STATE_9):{ (gripper pr2R), (initial pr2R), (gripper pr2L), (initial pr2L), (initial table1), (table table2), (initial table2), (initial table3), (object obj0), (initial obj0), (object obj1), (initial obj1), (object obj2), (initial obj2), (object obj3), (initial obj3), (table tray), (initial tray), (partOf table2 tray), (on table1 obj0), (on table1 obj1), (on table1 obj2), (on table1 obj3), (held obj0), (grasped pr2L obj1), (held obj1), (busy pr2L), (stable pr2L obj1), decision(place pr2R obj0 tray), (placed obj0 tray), (on obj0 tray), komo(touch pr2R obj0), (notheld obj0), block(INFEASIBLE grasp ANY obj0), komo(above obj0 tray), (stableOn tray obj0) }',\n",
       " 'path': '(grasp pr2R obj0) (grasp pr2L obj1) (place pr2R obj0 tray) ',\n",
       " 'boundsCost': [0.30000000000000004,\n",
       "  0.0,\n",
       "  0.31402973947780505,\n",
       "  1.4841055119496385,\n",
       "  0.0,\n",
       "  0.0,\n",
       "  0.0],\n",
       " 'boundsConstraints': [0.0,\n",
       "  0.0,\n",
       "  0.014866237693106233,\n",
       "  0.15362471953648774,\n",
       "  0.0,\n",
       "  0.0,\n",
       "  0.0],\n",
       " 'boundsFeasible': [1, 1, 1, 1, 1, 1, 1]}"
      ]
     },
     "metadata": {},
     "execution_count": 12
    }
   ],
   "source": [
    "lgp.optBound(ry.BT.path, True)\n",
    "lgp.nodeInfo()"
   ]
  },
  {
   "cell_type": "code",
   "execution_count": 12,
   "metadata": {},
   "outputs": [],
   "source": [
    "lgp.viewTree()"
   ]
  },
  {
   "cell_type": "code",
   "execution_count": 4,
   "metadata": {},
   "outputs": [],
   "source": [
    "\n",
    "# Add termination rules, i.e., symbolic goals\n",
    "lgp.addTerminalRule(\"(on obj0 tray) (on obj1 tray) (on obj2 tray)\")\n",
    "# Finally, the full multi-bound tree search (MBTS)\n",
    "lgp.run(2)  # THIS RUNS A THREAD AND GENERATES LOTS OF FILES in z.*"
   ]
  },
  {
   "cell_type": "code",
   "execution_count": 31,
   "metadata": {},
   "outputs": [
    {
     "output_type": "execute_result",
     "data": {
      "text/plain": [
       "0"
      ]
     },
     "metadata": {},
     "execution_count": 31
    }
   ],
   "source": [
    "# Wait until you have some solutions found! This may take a while. Repeat executing this line until you get something else than 0!\n",
    "# If the first solution(s) are found, a window should pop up showing them (up to 6).\n",
    "lgp.numSolutions()"
   ]
  },
  {
   "cell_type": "code",
   "execution_count": 6,
   "metadata": {},
   "outputs": [],
   "source": [
    "# get the KOMO object for the seqPath computation of the 0. solution\n",
    "komo = lgp.getKOMO(0, ry.BT.seqPath)"
   ]
  },
  {
   "cell_type": "code",
   "execution_count": 7,
   "metadata": {},
   "outputs": [],
   "source": [
    "komo.displayTrajectory()"
   ]
  },
  {
   "cell_type": "code",
   "execution_count": 23,
   "metadata": {},
   "outputs": [],
   "source": [
    "# assign K to the 20. configuration of the 0. solution, check display\n",
    "# you can now query anything (joint state, frame state, features)\n",
    "X = komo.getConfiguration(20)\n",
    "K.setFrameState(X) "
   ]
  },
  {
   "cell_type": "code",
   "execution_count": 5,
   "metadata": {},
   "outputs": [],
   "source": [
    "lgp.stop() # Stop the background thread... takes a while to finish the current job"
   ]
  },
  {
   "cell_type": "code",
   "execution_count": 19,
   "metadata": {},
   "outputs": [],
   "source": [
    "lgp.run(2) #will continue where it stopped"
   ]
  }
 ],
 "metadata": {
  "kernelspec": {
   "display_name": "Python 3",
   "language": "python",
   "name": "python3"
  },
  "language_info": {
   "codemirror_mode": {
    "name": "ipython",
    "version": 3
   },
   "file_extension": ".py",
   "mimetype": "text/x-python",
   "name": "python",
   "nbconvert_exporter": "python",
   "pygments_lexer": "ipython3",
   "version": "3.8.5-final"
  }
 },
 "nbformat": 4,
 "nbformat_minor": 2
}